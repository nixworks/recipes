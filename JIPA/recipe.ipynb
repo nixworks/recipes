{
 "cells": [
  {
   "cell_type": "markdown",
   "metadata": {},
   "source": [
    "# JIPA passage processing"
   ]
  },
  {
   "cell_type": "markdown",
   "metadata": {},
   "source": [
    "Steven Moran &lt;bambooforest@gmail.com&gt;\n",
    "\n",
    "The latest version of this [Jupyter notebook](http://jupyter.org/) is available at [https://github.com/unicode-cookbook](https://ithub.com/unicode-cookbook). \n",
    "\n",
    "This use case illustrates how to segment wordlist data using an orthography profile. Details about orthography profiles and more is available in the [Unicode Cookbook](https://github.com/unicode-cookbook).\n"
   ]
  },
  {
   "cell_type": "markdown",
   "metadata": {},
   "source": [
    "## Overview"
   ]
  },
  {
   "cell_type": "markdown",
   "metadata": {},
   "source": [
    "This recipe illustrates how to tokenize input text from JIPA passages to create an initial orthography profile per language.\n"
   ]
  },
  {
   "cell_type": "code",
   "execution_count": 87,
   "metadata": {
    "collapsed": true
   },
   "outputs": [],
   "source": [
    "from segments.tokenizer import Tokenizer\n",
    "from segments.cli import profile"
   ]
  },
  {
   "cell_type": "code",
   "execution_count": 16,
   "metadata": {
    "collapsed": false
   },
   "outputs": [
    {
     "name": "stdout",
     "output_type": "stream",
     "text": [
      "u vẽⁿtʊ nɔɾt͡ʃɪ̥ u sɔʊ̯ dʲiskut͡ʃiɐ̃ʊ̯ kʊ̯aʊ̯ duz doɪ̯z ɛɾɐ u maɪ̯s fɔɾt͡ʃɪ̥ | kʊ̯ɐ̃ⁿdʊ suseˈdeʊ̯ paˈsaɾ ũ viaʒɐ̃ⁿt͡ʃɪ̃voʊ̯tʊ ˈnũma kapɐ ‖ aʊ̯ velʊ põɪ̯sɪ d͡ʒɪ̯akoɾdʊ ɪ̯̃ kõmakelɪ kɪ pɾimeɾʊ kõsɪˈgis̩ obɾiˈgaɾ u vɪaʒɐ̃ⁿt͡ʃɪ̯ɐt͡ʃiˈɾaɾ a kapɐ seɾiɐ kõs̩deˈɾadu maɪ̯s fɔɾt͡ʃɪ̥ ‖ u vẽⁿtʊ nɔɾɪ̥ komeˈsoɐ̯ soˈpɾaɾ kõ ˈmũɪ̯̃ta fuɾɪ̯ɐ | mas kʊ̯ɐ̃ⁿtʊ maɪ̯sopɾavɐ maɪ̯z u vɪaˈʒɐ̃ⁿt sɪ̯akõʃeˈgava suɐ kapɐ̰ | aˈtɛ kɪ̯ʊ vẽⁿtʊ nɔɾt͡ʃɪ dʲizisˈt͡ʃiʊ̯ ‖ u sɔʊ̯ bɾiˈʎoʊ̯ tevɪ̯aˈsɪ̃ dʲi ɣekõɲeˈseɾ a supeɾioɾidadʲɪ du sɔʊ̯\n"
     ]
    }
   ],
   "source": [
    "with open('sources/Brazilian_Portuguese_input.txt') as infile:\n",
    "    text = infile.read()\n",
    "    print(text)"
   ]
  },
  {
   "cell_type": "code",
   "execution_count": 72,
   "metadata": {
    "collapsed": false
   },
   "outputs": [],
   "source": [
    "t = Tokenizer()"
   ]
  },
  {
   "cell_type": "code",
   "execution_count": 74,
   "metadata": {
    "collapsed": false
   },
   "outputs": [],
   "source": [
    "tokenized_text = t(text)"
   ]
  },
  {
   "cell_type": "code",
   "execution_count": 75,
   "metadata": {
    "collapsed": false
   },
   "outputs": [
    {
     "name": "stdout",
     "output_type": "stream",
     "text": [
      "u # v ẽ ⁿ t ʊ # n ɔ ɾ t͡ ʃ ɪ̥ # u # s ɔ ʊ̯ # d ʲ i s k u t͡ ʃ i ɐ̃ ʊ̯ # k ʊ̯ a ʊ̯ # d u z # d o ɪ̯ z # ɛ ɾ ɐ # u # m a ɪ̯ s # f ɔ ɾ t͡ ʃ ɪ̥ # | # k ʊ̯ ɐ̃ ⁿ d ʊ # s u s e ˈ d e ʊ̯ # p a ˈ s a ɾ # ũ # v i a ʒ ɐ̃ ⁿ t͡ ʃ ɪ̃ v o ʊ̯ t ʊ # ˈ n ũ m a # k a p ɐ # ‖ # a ʊ̯ # v e l ʊ # p õ ɪ̯ s ɪ # d͡ ʒ ɪ̯ a k o ɾ d ʊ # ɪ̯̃ # k õ m a k e l ɪ # k ɪ # p ɾ i m e ɾ ʊ # k õ s ɪ ˈ g i s̩ # o b ɾ i ˈ g a ɾ # u # v ɪ a ʒ ɐ̃ ⁿ t͡ ʃ ɪ̯ ɐ t͡ ʃ i ˈ ɾ a ɾ # a # k a p ɐ # s e ɾ i ɐ # k õ s̩ d e ˈ ɾ a d u # m a ɪ̯ s # f ɔ ɾ t͡ ʃ ɪ̥ # ‖ # u # v ẽ ⁿ t ʊ # n ɔ ɾ ɪ̥ # k o m e ˈ s o ɐ̯ # s o ˈ p ɾ a ɾ # k õ # ˈ m ũ ɪ̯̃ t a # f u ɾ ɪ̯ ɐ # | # m a s # k ʊ̯ ɐ̃ ⁿ t ʊ # m a ɪ̯ s o p ɾ a v ɐ # m a ɪ̯ z # u # v ɪ a ˈ ʒ ɐ̃ ⁿ t # s ɪ̯ a k õ ʃ e ˈ g a v a # s u ɐ # k a p ɐ̰ # | # a ˈ t ɛ # k ɪ̯ ʊ # v ẽ ⁿ t ʊ # n ɔ ɾ t͡ ʃ ɪ # d ʲ i z i s ˈ t͡ ʃ i ʊ̯ # ‖ # u # s ɔ ʊ̯ # b ɾ i ˈ ʎ o ʊ̯ # t e v ɪ̯ a ˈ s ɪ̃ # d ʲ i # ɣ e k õ ɲ e ˈ s e ɾ # a # s u p e ɾ i o ɾ i d a d ʲ ɪ # d u # s ɔ ʊ̯\n"
     ]
    }
   ],
   "source": [
    "print(tokenized_text)"
   ]
  },
  {
   "cell_type": "markdown",
   "metadata": {},
   "source": [
    "The `segments` package is also a command line interface, which makes it easy to create orthography profiles from text."
   ]
  },
  {
   "cell_type": "code",
   "execution_count": 78,
   "metadata": {
    "collapsed": false
   },
   "outputs": [
    {
     "name": "stdout",
     "output_type": "stream",
     "text": [
      "graphemes\tfrequency\tmapping\r\n",
      " \t75\t \r\n",
      "a\t32\ta\r\n",
      "ɾ\t24\tɾ\r\n",
      "s\t22\ts\r\n",
      "k\t18\tk\r\n",
      "ˈ\t17\tˈ\r\n",
      "u\t15\tu\r\n",
      "i\t15\ti\r\n",
      "e\t14\te\r\n",
      "ʊ̯\t13\tʊ̯\r\n",
      "d\t13\td\r\n",
      "ɪ̯\t12\tɪ̯\r\n",
      "v\t11\tv\r\n",
      "ʊ\t10\tʊ\r\n",
      "ʃ\t10\tʃ\r\n",
      "o\t10\to\r\n",
      "m\t10\tm\r\n",
      "t\t9\tt\r\n",
      "t͡\t9\tt͡\r\n",
      "p\t9\tp\r\n",
      "ⁿ\t8\tⁿ\r\n",
      "ɔ\t8\tɔ\r\n",
      "ɐ\t8\tɐ\r\n",
      "ɪ\t8\tɪ\r\n",
      "õ\t7\tõ\r\n",
      "ɐ̃\t6\tɐ̃\r\n",
      "n\t4\tn\r\n",
      "ɪ̥\t4\tɪ̥\r\n",
      "ʲ\t4\tʲ\r\n",
      "z\t4\tz\r\n",
      "ʒ\t4\tʒ\r\n",
      "ẽ\t3\tẽ\r\n",
      "f\t3\tf\r\n",
      "|\t3\t|\r\n",
      "ũ\t3\tũ\r\n",
      "‖\t3\t‖\r\n",
      "g\t3\tg\r\n",
      "ɛ\t2\tɛ\r\n",
      "ɪ̃\t2\tɪ̃\r\n",
      "l\t2\tl\r\n",
      "ɪ̯̃\t2\tɪ̯̃\r\n",
      "s̩\t2\ts̩\r\n",
      "b\t2\tb\r\n",
      "d͡\t1\td͡\r\n",
      "ɐ̯\t1\tɐ̯\r\n",
      "ɐ̰\t1\tɐ̰\r\n",
      "ʎ\t1\tʎ\r\n",
      "ɣ\t1\tɣ\r\n",
      "ɲ\t1\tɲ\r\n"
     ]
    }
   ],
   "source": [
    "! segments profile sources/Brazilian_Portuguese_input.txt"
   ]
  },
  {
   "cell_type": "markdown",
   "metadata": {},
   "source": [
    "The output is an initial orthography profile with columns: graphemes, frequency, and mapping."
   ]
  },
  {
   "cell_type": "code",
   "execution_count": 98,
   "metadata": {
    "collapsed": true
   },
   "outputs": [],
   "source": [
    "from segments.cli import profile"
   ]
  },
  {
   "cell_type": "code",
   "execution_count": 99,
   "metadata": {
    "collapsed": false
   },
   "outputs": [
    {
     "ename": "AttributeError",
     "evalue": "'str' object has no attribute 'args'",
     "output_type": "error",
     "traceback": [
      "\u001b[0;31m---------------------------------------------------------------------------\u001b[0m",
      "\u001b[0;31mAttributeError\u001b[0m                            Traceback (most recent call last)",
      "\u001b[0;32m<ipython-input-99-17d4a4937a4b>\u001b[0m in \u001b[0;36m<module>\u001b[0;34m()\u001b[0m\n\u001b[0;32m----> 1\u001b[0;31m \u001b[0mprofile\u001b[0m\u001b[0;34m(\u001b[0m\u001b[0;34m\"ass\"\u001b[0m\u001b[0;34m)\u001b[0m\u001b[0;34m\u001b[0m\u001b[0m\n\u001b[0m",
      "\u001b[0;32m/Users/stiv/Github/segments/segments/cli.py\u001b[0m in \u001b[0;36mprofile\u001b[0;34m(args, stream)\u001b[0m\n\u001b[1;32m     35\u001b[0m     \u001b[0msegments\u001b[0m \u001b[0mprofile\u001b[0m \u001b[0;34m<\u001b[0m\u001b[0mSTRING\u001b[0m\u001b[0;34m>\u001b[0m\u001b[0;34m|\u001b[0m\u001b[0;34m<\u001b[0m\u001b[0mFILENAME\u001b[0m\u001b[0;34m>\u001b[0m\u001b[0;34m\u001b[0m\u001b[0m\n\u001b[1;32m     36\u001b[0m     \"\"\"\n\u001b[0;32m---> 37\u001b[0;31m     \u001b[0;32mif\u001b[0m \u001b[0;32mnot\u001b[0m \u001b[0margs\u001b[0m\u001b[0;34m.\u001b[0m\u001b[0margs\u001b[0m\u001b[0;34m:\u001b[0m\u001b[0;34m\u001b[0m\u001b[0m\n\u001b[0m\u001b[1;32m     38\u001b[0m         \u001b[0margs\u001b[0m\u001b[0;34m.\u001b[0m\u001b[0margs\u001b[0m \u001b[0;34m=\u001b[0m \u001b[0;34m[\u001b[0m\u001b[0mstream\u001b[0m\u001b[0;34m.\u001b[0m\u001b[0mread\u001b[0m\u001b[0;34m(\u001b[0m\u001b[0;34m)\u001b[0m\u001b[0;34m]\u001b[0m\u001b[0;34m\u001b[0m\u001b[0m\n\u001b[1;32m     39\u001b[0m \u001b[0;34m\u001b[0m\u001b[0m\n",
      "\u001b[0;31mAttributeError\u001b[0m: 'str' object has no attribute 'args'"
     ]
    }
   ],
   "source": [
    "profile(\"ass\")"
   ]
  },
  {
   "cell_type": "markdown",
   "metadata": {},
   "source": [
    "from collections import Counter"
   ]
  },
  {
   "cell_type": "code",
   "execution_count": 62,
   "metadata": {
    "collapsed": true
   },
   "outputs": [],
   "source": [
    "graphemes = Counter()"
   ]
  },
  {
   "cell_type": "code",
   "execution_count": 64,
   "metadata": {
    "collapsed": false
   },
   "outputs": [],
   "source": [
    "for line in text:\n",
    "    graphemes.update(Tokenizer.grapheme_pattern.findall(line))"
   ]
  },
  {
   "cell_type": "code",
   "execution_count": 65,
   "metadata": {
    "collapsed": false
   },
   "outputs": [
    {
     "data": {
      "text/plain": [
       "Counter({' ': 75,\n",
       "         'a': 32,\n",
       "         'b': 2,\n",
       "         'd': 14,\n",
       "         'e': 17,\n",
       "         'f': 3,\n",
       "         'g': 3,\n",
       "         'i': 15,\n",
       "         'k': 18,\n",
       "         'l': 2,\n",
       "         'm': 10,\n",
       "         'n': 4,\n",
       "         'o': 17,\n",
       "         'p': 9,\n",
       "         's': 24,\n",
       "         't': 18,\n",
       "         'u': 18,\n",
       "         'v': 11,\n",
       "         'z': 4,\n",
       "         '|': 3,\n",
       "         'ɐ': 16,\n",
       "         'ɔ': 8,\n",
       "         'ɛ': 2,\n",
       "         'ɣ': 1,\n",
       "         'ɪ': 28,\n",
       "         'ɲ': 1,\n",
       "         'ɾ': 24,\n",
       "         'ʃ': 10,\n",
       "         'ʊ': 23,\n",
       "         'ʎ': 1,\n",
       "         'ʒ': 4,\n",
       "         'ʲ': 4,\n",
       "         'ˈ': 17,\n",
       "         '̃': 23,\n",
       "         '̥': 4,\n",
       "         '̩': 2,\n",
       "         '̯': 28,\n",
       "         '̰': 1,\n",
       "         '͡': 10,\n",
       "         '‖': 3,\n",
       "         'ⁿ': 8})"
      ]
     },
     "execution_count": 65,
     "metadata": {},
     "output_type": "execute_result"
    }
   ],
   "source": [
    "graphemes"
   ]
  },
  {
   "cell_type": "code",
   "execution_count": 76,
   "metadata": {
    "collapsed": false
   },
   "outputs": [
    {
     "data": {
      "application/json": {
       "cell": {
        "!": "OSMagics",
        "HTML": "Other",
        "SVG": "Other",
        "bash": "Other",
        "capture": "ExecutionMagics",
        "debug": "ExecutionMagics",
        "file": "Other",
        "html": "DisplayMagics",
        "javascript": "DisplayMagics",
        "js": "DisplayMagics",
        "latex": "DisplayMagics",
        "perl": "Other",
        "prun": "ExecutionMagics",
        "pypy": "Other",
        "python": "Other",
        "python2": "Other",
        "python3": "Other",
        "ruby": "Other",
        "script": "ScriptMagics",
        "sh": "Other",
        "svg": "DisplayMagics",
        "sx": "OSMagics",
        "system": "OSMagics",
        "time": "ExecutionMagics",
        "timeit": "ExecutionMagics",
        "writefile": "OSMagics"
       },
       "line": {
        "alias": "OSMagics",
        "alias_magic": "BasicMagics",
        "autocall": "AutoMagics",
        "automagic": "AutoMagics",
        "autosave": "KernelMagics",
        "bookmark": "OSMagics",
        "cat": "Other",
        "cd": "OSMagics",
        "clear": "KernelMagics",
        "colors": "BasicMagics",
        "config": "ConfigMagics",
        "connect_info": "KernelMagics",
        "cp": "Other",
        "debug": "ExecutionMagics",
        "dhist": "OSMagics",
        "dirs": "OSMagics",
        "doctest_mode": "BasicMagics",
        "ed": "Other",
        "edit": "KernelMagics",
        "env": "OSMagics",
        "gui": "BasicMagics",
        "hist": "Other",
        "history": "HistoryMagics",
        "killbgscripts": "ScriptMagics",
        "ldir": "Other",
        "less": "KernelMagics",
        "lf": "Other",
        "lk": "Other",
        "ll": "Other",
        "load": "CodeMagics",
        "load_ext": "ExtensionMagics",
        "loadpy": "CodeMagics",
        "logoff": "LoggingMagics",
        "logon": "LoggingMagics",
        "logstart": "LoggingMagics",
        "logstate": "LoggingMagics",
        "logstop": "LoggingMagics",
        "ls": "Other",
        "lsmagic": "BasicMagics",
        "lx": "Other",
        "macro": "ExecutionMagics",
        "magic": "BasicMagics",
        "man": "KernelMagics",
        "matplotlib": "PylabMagics",
        "mkdir": "Other",
        "more": "KernelMagics",
        "mv": "Other",
        "notebook": "BasicMagics",
        "page": "BasicMagics",
        "pastebin": "CodeMagics",
        "pdb": "ExecutionMagics",
        "pdef": "NamespaceMagics",
        "pdoc": "NamespaceMagics",
        "pfile": "NamespaceMagics",
        "pinfo": "NamespaceMagics",
        "pinfo2": "NamespaceMagics",
        "popd": "OSMagics",
        "pprint": "BasicMagics",
        "precision": "BasicMagics",
        "profile": "BasicMagics",
        "prun": "ExecutionMagics",
        "psearch": "NamespaceMagics",
        "psource": "NamespaceMagics",
        "pushd": "OSMagics",
        "pwd": "OSMagics",
        "pycat": "OSMagics",
        "pylab": "PylabMagics",
        "qtconsole": "KernelMagics",
        "quickref": "BasicMagics",
        "recall": "HistoryMagics",
        "rehashx": "OSMagics",
        "reload_ext": "ExtensionMagics",
        "rep": "Other",
        "rerun": "HistoryMagics",
        "reset": "NamespaceMagics",
        "reset_selective": "NamespaceMagics",
        "rm": "Other",
        "rmdir": "Other",
        "run": "ExecutionMagics",
        "save": "CodeMagics",
        "sc": "OSMagics",
        "set_env": "OSMagics",
        "store": "StoreMagics",
        "sx": "OSMagics",
        "system": "OSMagics",
        "tb": "ExecutionMagics",
        "time": "ExecutionMagics",
        "timeit": "ExecutionMagics",
        "unalias": "OSMagics",
        "unload_ext": "ExtensionMagics",
        "who": "NamespaceMagics",
        "who_ls": "NamespaceMagics",
        "whos": "NamespaceMagics",
        "xdel": "NamespaceMagics",
        "xmode": "BasicMagics"
       }
      },
      "text/plain": [
       "Available line magics:\n",
       "%alias  %alias_magic  %autocall  %automagic  %autosave  %bookmark  %cat  %cd  %clear  %colors  %config  %connect_info  %cp  %debug  %dhist  %dirs  %doctest_mode  %ed  %edit  %env  %gui  %hist  %history  %killbgscripts  %ldir  %less  %lf  %lk  %ll  %load  %load_ext  %loadpy  %logoff  %logon  %logstart  %logstate  %logstop  %ls  %lsmagic  %lx  %macro  %magic  %man  %matplotlib  %mkdir  %more  %mv  %notebook  %page  %pastebin  %pdb  %pdef  %pdoc  %pfile  %pinfo  %pinfo2  %popd  %pprint  %precision  %profile  %prun  %psearch  %psource  %pushd  %pwd  %pycat  %pylab  %qtconsole  %quickref  %recall  %rehashx  %reload_ext  %rep  %rerun  %reset  %reset_selective  %rm  %rmdir  %run  %save  %sc  %set_env  %store  %sx  %system  %tb  %time  %timeit  %unalias  %unload_ext  %who  %who_ls  %whos  %xdel  %xmode\n",
       "\n",
       "Available cell magics:\n",
       "%%!  %%HTML  %%SVG  %%bash  %%capture  %%debug  %%file  %%html  %%javascript  %%js  %%latex  %%perl  %%prun  %%pypy  %%python  %%python2  %%python3  %%ruby  %%script  %%sh  %%svg  %%sx  %%system  %%time  %%timeit  %%writefile\n",
       "\n",
       "Automagic is ON, % prefix IS NOT needed for line magics."
      ]
     },
     "execution_count": 76,
     "metadata": {},
     "output_type": "execute_result"
    }
   ],
   "source": [
    "lsmagic"
   ]
  },
  {
   "cell_type": "code",
   "execution_count": 77,
   "metadata": {
    "collapsed": false
   },
   "outputs": [
    {
     "name": "stdout",
     "output_type": "stream",
     "text": [
      "usage: segments [-h] [--encoding ENCODING] command ...\r\n",
      "segments: error: the following arguments are required: command, args\r\n"
     ]
    }
   ],
   "source": [
    "! segments"
   ]
  },
  {
   "cell_type": "code",
   "execution_count": null,
   "metadata": {
    "collapsed": true
   },
   "outputs": [],
   "source": []
  }
 ],
 "metadata": {
  "kernelspec": {
   "display_name": "Python 3",
   "language": "python",
   "name": "python3"
  },
  "language_info": {
   "codemirror_mode": {
    "name": "ipython",
    "version": 3
   },
   "file_extension": ".py",
   "mimetype": "text/x-python",
   "name": "python",
   "nbconvert_exporter": "python",
   "pygments_lexer": "ipython3",
   "version": "3.6.0"
  }
 },
 "nbformat": 4,
 "nbformat_minor": 0
}
